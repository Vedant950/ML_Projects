{
  "nbformat": 4,
  "nbformat_minor": 0,
  "metadata": {
    "colab": {
      "name": "Mnist_Digit_Recognizer.ipynb",
      "provenance": [],
      "collapsed_sections": []
    },
    "kernelspec": {
      "name": "python3",
      "display_name": "Python 3"
    }
  },
  "cells": [
    {
      "cell_type": "markdown",
      "metadata": {
        "id": "_m6creyZwCyD"
      },
      "source": [
        "## **Handwritten Digit Recognition with Neural Network**\r\n",
        "\r\n",
        "In this machine learning project, we will recognize handwritten digits, i.e, numbers from 0-9. This we are going to achieve by modeling a neural network that will have to be trained over a dataset containing images of numbers.\r\n",
        "\r\n",
        "### **What is Handwritten Digit Recognition?**\r\n",
        "\r\n",
        "The handwritten digit recognition is the ability of computers to recognize human handwritten digits. It is a hard task for the machine because handwritten digits are not perfect and can be made with many different flavors. The handwritten digit recognition is the solution to this problem which uses the image of a digit and recognizes the digit present in the image."
      ]
    },
    {
      "cell_type": "markdown",
      "metadata": {
        "id": "FHoRPGFuw0UW"
      },
      "source": [
        "### **Importing the Libraries**"
      ]
    },
    {
      "cell_type": "code",
      "metadata": {
        "id": "5JXD3s89wFmq"
      },
      "source": [
        "import numpy as np\r\n",
        "import pandas as pd\r\n",
        "import matplotlib.pyplot as plt\r\n",
        "import keras\r\n",
        "from keras.models import Sequential\r\n",
        "from keras.layers import Dense\r\n",
        "from keras.layers import Convolution2D\r\n",
        "from keras.layers import MaxPooling2D\r\n",
        "from keras.layers import Flatten\r\n",
        "from keras.layers import Dropout\r\n",
        "from keras.layers import BatchNormalization\r\n",
        "import seaborn as sns"
      ],
      "execution_count": null,
      "outputs": []
    },
    {
      "cell_type": "markdown",
      "metadata": {
        "id": "WdQSod45yCSV"
      },
      "source": [
        "### **Importing the dataset**\r\n",
        "\r\n",
        "The Keras library already contains some datasets and MNIST is one of them. So we can easily import the dataset and start working with it. The mnist.load_data() method returns us the training data, its labels and also the testing data and its labels."
      ]
    },
    {
      "cell_type": "code",
      "metadata": {
        "id": "u38cVQ3Tx_Hi",
        "colab": {
          "base_uri": "https://localhost:8080/"
        },
        "outputId": "52cf4530-856c-4517-a62d-e70851e6c582"
      },
      "source": [
        "from keras.datasets import mnist\r\n",
        "(X_train, Y_train), (X_test, Y_test) = mnist.load_data()\r\n",
        "y_train = Y_train\r\n",
        "y_test = Y_test\r\n",
        "\r\n",
        "print(X_train.shape, X_test.shape)"
      ],
      "execution_count": null,
      "outputs": [
        {
          "output_type": "stream",
          "text": [
            "(60000, 28, 28) (10000, 28, 28)\n"
          ],
          "name": "stdout"
        }
      ]
    },
    {
      "cell_type": "markdown",
      "metadata": {
        "id": "1euVfBdAz6q2"
      },
      "source": [
        "### **Data Preprocessing**\r\n",
        "\r\n",
        "The image data cannot be fed directly into the model so we need to perform some operations and process the data to make it ready for our neural network. The dimension of the training data is (60000,28,28). The CNN model will require one more dimension so we reshape the matrix to shape (60000,28,28,1)."
      ]
    },
    {
      "cell_type": "code",
      "metadata": {
        "colab": {
          "base_uri": "https://localhost:8080/"
        },
        "id": "p_aNBCq7zJQk",
        "outputId": "2500f255-5a8d-416c-863d-d677c5f22734"
      },
      "source": [
        "# Converting a into a 3D model, We are using 1 as the images are in B/W\r\n",
        "X_train = X_train.reshape(X_train.shape[0], 28, 28, 1)\r\n",
        "X_test = X_test.reshape(X_test.shape[0], 28, 28, 1)\r\n",
        "\r\n",
        "# convert class vectors to binary class matrices\r\n",
        "Y_train = keras.utils.to_categorical(Y_train, 10)\r\n",
        "Y_test = keras.utils.to_categorical(Y_test, 10)\r\n",
        "\r\n",
        "# Rescaling\r\n",
        "X_train = X_train.astype(\"float32\")/255\r\n",
        "X_test = X_test.astype(\"float32\")/255\r\n",
        "\r\n",
        "print(X_train.shape)\r\n",
        "print(X_test.shape)"
      ],
      "execution_count": null,
      "outputs": [
        {
          "output_type": "stream",
          "text": [
            "(60000, 28, 28, 1)\n",
            "(10000, 28, 28, 1)\n"
          ],
          "name": "stdout"
        }
      ]
    },
    {
      "cell_type": "markdown",
      "metadata": {
        "id": "1sriWUHZBgaO"
      },
      "source": [
        "### **Data Visualization**"
      ]
    },
    {
      "cell_type": "code",
      "metadata": {
        "colab": {
          "base_uri": "https://localhost:8080/",
          "height": 537
        },
        "id": "D_WXJfpqBf8P",
        "outputId": "a7013bb0-b5ca-4518-a120-3bcd846633b1"
      },
      "source": [
        "plt.figure(figsize = (12, 8))\r\n",
        "sns.countplot(y_train)\r\n",
        "plt.show()"
      ],
      "execution_count": null,
      "outputs": [
        {
          "output_type": "stream",
          "text": [
            "/usr/local/lib/python3.6/dist-packages/seaborn/_decorators.py:43: FutureWarning: Pass the following variable as a keyword arg: x. From version 0.12, the only valid positional argument will be `data`, and passing other arguments without an explicit keyword will result in an error or misinterpretation.\n",
            "  FutureWarning\n"
          ],
          "name": "stderr"
        },
        {
          "output_type": "display_data",
          "data": {
            "image/png": "[encoded data removed]",
            "text/plain": [
              "<Figure size 864x576 with 1 Axes>"
            ]
          },
          "metadata": {
            "tags": [],
            "needs_background": "light"
          }
        }
      ]
    },
    {
      "cell_type": "code",
      "metadata": {
        "colab": {
          "base_uri": "https://localhost:8080/",
          "height": 537
        },
        "id": "wN93Q93KMaKR",
        "outputId": "8ae288ca-4a19-434e-f480-e55b557d041d"
      },
      "source": [
        "plt.figure(figsize = (12, 8))\r\n",
        "sns.countplot(y_test)\r\n",
        "plt.show()"
      ],
      "execution_count": null,
      "outputs": [
        {
          "output_type": "stream",
          "text": [
            "/usr/local/lib/python3.6/dist-packages/seaborn/_decorators.py:43: FutureWarning: Pass the following variable as a keyword arg: x. From version 0.12, the only valid positional argument will be `data`, and passing other arguments without an explicit keyword will result in an error or misinterpretation.\n",
            "  FutureWarning\n"
          ],
          "name": "stderr"
        },
        {
          "output_type": "display_data",
          "data": {
            "image/png": "[encoded data removed]",
            "text/plain": [
              "<Figure size 864x576 with 1 Axes>"
            ]
          },
          "metadata": {
            "tags": [],
            "needs_background": "light"
          }
        }
      ]
    },
    {
      "cell_type": "markdown",
      "metadata": {
        "id": "tZp_IXaj2an2"
      },
      "source": [
        "### **Creating the CNN Model**\r\n",
        "\r\n",
        "Now we will create our CNN model in Python data science project. A CNN model generally consists of convolutional and pooling layers. The dropout layer is used to deactivate some of the neurons and while training, it reduces offer fitting of the model. We will then compile the model with the Adam optimizer."
      ]
    },
    {
      "cell_type": "code",
      "metadata": {
        "id": "Vqsv4eqgzmJu"
      },
      "source": [
        "model = Sequential()\r\n",
        "model.add(Convolution2D(64, 3, 3, input_shape = (28,28,1), activation = 'relu'))\r\n",
        "model.add(Convolution2D(64, 3, 3, activation = 'relu'))\r\n",
        "model.add(MaxPooling2D(pool_size = (2, 2)))\r\n",
        "model.add(Dropout(0.25))\r\n",
        "model.add(Flatten())\r\n",
        "model.add(Dense(1024, activation = 'relu'))\r\n",
        "model.add(Dropout(0.20))\r\n",
        "model.add(Dense(1024, activation = 'relu'))\r\n",
        "model.add(Dropout(0.25))\r\n",
        "model.add(Dense(10, activation = 'softmax'))\r\n",
        "\r\n",
        "model.compile(optimizer = 'adam', loss = 'categorical_crossentropy', metrics = ['accuracy'])"
      ],
      "execution_count": null,
      "outputs": []
    },
    {
      "cell_type": "code",
      "metadata": {
        "colab": {
          "base_uri": "https://localhost:8080/"
        },
        "id": "bdwu_F7VJwrT",
        "outputId": "c481e7a4-bee9-4458-e87c-f3f677b6c8df"
      },
      "source": [
        "model.summary()"
      ],
      "execution_count": null,
      "outputs": [
        {
          "output_type": "stream",
          "text": [
            "Model: \"sequential_3\"\n",
            "_________________________________________________________________\n",
            "Layer (type)                 Output Shape              Param #   \n",
            "=================================================================\n",
            "conv2d_7 (Conv2D)            (None, 9, 9, 64)          640       \n",
            "_________________________________________________________________\n",
            "conv2d_8 (Conv2D)            (None, 3, 3, 64)          36928     \n",
            "_________________________________________________________________\n",
            "max_pooling2d_3 (MaxPooling2 (None, 1, 1, 64)          0         \n",
            "_________________________________________________________________\n",
            "dropout_6 (Dropout)          (None, 1, 1, 64)          0         \n",
            "_________________________________________________________________\n",
            "flatten_2 (Flatten)          (None, 64)                0         \n",
            "_________________________________________________________________\n",
            "dense_5 (Dense)              (None, 1024)              66560     \n",
            "_________________________________________________________________\n",
            "dropout_7 (Dropout)          (None, 1024)              0         \n",
            "_________________________________________________________________\n",
            "dense_6 (Dense)              (None, 1024)              1049600   \n",
            "_________________________________________________________________\n",
            "dropout_8 (Dropout)          (None, 1024)              0         \n",
            "_________________________________________________________________\n",
            "dense_7 (Dense)              (None, 10)                10250     \n",
            "=================================================================\n",
            "Total params: 1,163,978\n",
            "Trainable params: 1,163,978\n",
            "Non-trainable params: 0\n",
            "_________________________________________________________________\n"
          ],
          "name": "stdout"
        }
      ]
    },
    {
      "cell_type": "code",
      "metadata": {
        "id": "eGulhS4P076J",
        "colab": {
          "base_uri": "https://localhost:8080/"
        },
        "outputId": "05920f02-1f7f-4990-9abf-3c2619e10b0e"
      },
      "source": [
        "hist = model.fit(X_train, Y_train, batch_size = 128, epochs = 20, validation_data = (X_test, Y_test))\r\n",
        "print(\"The Model was successfully trained\")\r\n",
        "\r\n",
        "model.save('mnist_digit_recognition.h5')\r\n",
        "print(\"Saving the model as mnist_digit_recognition.h5\")"
      ],
      "execution_count": null,
      "outputs": [
        {
          "output_type": "stream",
          "text": [
            "Epoch 1/20\n",
            "469/469 [==============================] - 23s 49ms/step - loss: 0.9459 - accuracy: 0.6885 - val_loss: 0.2432 - val_accuracy: 0.9274\n",
            "Epoch 2/20\n",
            "469/469 [==============================] - 23s 49ms/step - loss: 0.3380 - accuracy: 0.8941 - val_loss: 0.2094 - val_accuracy: 0.9371\n",
            "Epoch 3/20\n",
            "469/469 [==============================] - 26s 55ms/step - loss: 0.2783 - accuracy: 0.9130 - val_loss: 0.1741 - val_accuracy: 0.9462\n",
            "Epoch 4/20\n",
            "469/469 [==============================] - 23s 49ms/step - loss: 0.2466 - accuracy: 0.9233 - val_loss: 0.1634 - val_accuracy: 0.9500\n",
            "Epoch 5/20\n",
            "469/469 [==============================] - 23s 50ms/step - loss: 0.2188 - accuracy: 0.9312 - val_loss: 0.1608 - val_accuracy: 0.9489\n",
            "Epoch 6/20\n",
            "469/469 [==============================] - 23s 49ms/step - loss: 0.1994 - accuracy: 0.9374 - val_loss: 0.1530 - val_accuracy: 0.9533\n",
            "Epoch 7/20\n",
            "469/469 [==============================] - 23s 49ms/step - loss: 0.1930 - accuracy: 0.9379 - val_loss: 0.1450 - val_accuracy: 0.9548\n",
            "Epoch 8/20\n",
            "469/469 [==============================] - 23s 49ms/step - loss: 0.1807 - accuracy: 0.9417 - val_loss: 0.1405 - val_accuracy: 0.9554\n",
            "Epoch 9/20\n",
            "469/469 [==============================] - 23s 49ms/step - loss: 0.1757 - accuracy: 0.9435 - val_loss: 0.1340 - val_accuracy: 0.9569\n",
            "Epoch 10/20\n",
            "469/469 [==============================] - 23s 49ms/step - loss: 0.1683 - accuracy: 0.9452 - val_loss: 0.1430 - val_accuracy: 0.9543\n",
            "Epoch 11/20\n",
            "469/469 [==============================] - 23s 49ms/step - loss: 0.1614 - accuracy: 0.9476 - val_loss: 0.1352 - val_accuracy: 0.9574\n",
            "Epoch 12/20\n",
            "469/469 [==============================] - 23s 49ms/step - loss: 0.1511 - accuracy: 0.9510 - val_loss: 0.1368 - val_accuracy: 0.9579\n",
            "Epoch 13/20\n",
            "469/469 [==============================] - 23s 49ms/step - loss: 0.1480 - accuracy: 0.9513 - val_loss: 0.1266 - val_accuracy: 0.9587\n",
            "Epoch 14/20\n",
            "469/469 [==============================] - 23s 50ms/step - loss: 0.1437 - accuracy: 0.9529 - val_loss: 0.1299 - val_accuracy: 0.9583\n",
            "Epoch 15/20\n",
            "469/469 [==============================] - 23s 49ms/step - loss: 0.1394 - accuracy: 0.9539 - val_loss: 0.1233 - val_accuracy: 0.9603\n",
            "Epoch 16/20\n",
            "469/469 [==============================] - 23s 49ms/step - loss: 0.1374 - accuracy: 0.9556 - val_loss: 0.1218 - val_accuracy: 0.9616\n",
            "Epoch 17/20\n",
            "469/469 [==============================] - 25s 53ms/step - loss: 0.1314 - accuracy: 0.9570 - val_loss: 0.1266 - val_accuracy: 0.9608\n",
            "Epoch 18/20\n",
            "469/469 [==============================] - 23s 49ms/step - loss: 0.1281 - accuracy: 0.9588 - val_loss: 0.1284 - val_accuracy: 0.9599\n",
            "Epoch 19/20\n",
            "469/469 [==============================] - 23s 50ms/step - loss: 0.1268 - accuracy: 0.9586 - val_loss: 0.1272 - val_accuracy: 0.9599\n",
            "Epoch 20/20\n",
            "469/469 [==============================] - 23s 49ms/step - loss: 0.1227 - accuracy: 0.9601 - val_loss: 0.1291 - val_accuracy: 0.9592\n",
            "The Model was successfully trained\n",
            "Saving the model as mnist_digit_recognition.h5\n"
          ],
          "name": "stdout"
        }
      ]
    },
    {
      "cell_type": "markdown",
      "metadata": {
        "id": "tUUAg9-Y7cNQ"
      },
      "source": [
        "### **Model Evaluation**"
      ]
    },
    {
      "cell_type": "code",
      "metadata": {
        "colab": {
          "base_uri": "https://localhost:8080/"
        },
        "id": "3EE2eJ8Q6Q5v",
        "outputId": "8efb9625-5c54-4bd6-c66b-8f1da5412ae1"
      },
      "source": [
        "score = model.evaluate(X_test, Y_test)\r\n",
        "print('Test loss:', score[0])\r\n",
        "print('Test accuracy:', score[1]*100)"
      ],
      "execution_count": null,
      "outputs": [
        {
          "output_type": "stream",
          "text": [
            "313/313 [==============================] - 2s 5ms/step - loss: 0.1291 - accuracy: 0.9592\n",
            "Test loss: 0.12911084294319153\n",
            "Test accuracy: 95.92000246047974\n"
          ],
          "name": "stdout"
        }
      ]
    },
    {
      "cell_type": "markdown",
      "metadata": {
        "id": "_tJx_EMoEMGx"
      },
      "source": [
        "### **Visulaization of the Results**"
      ]
    },
    {
      "cell_type": "code",
      "metadata": {
        "colab": {
          "base_uri": "https://localhost:8080/"
        },
        "id": "fCsQR7HkEInM",
        "outputId": "a0a4a121-2397-4465-c3d6-86cff5be5ff7"
      },
      "source": [
        "print(hist.history.keys())"
      ],
      "execution_count": null,
      "outputs": [
        {
          "output_type": "stream",
          "text": [
            "dict_keys(['loss', 'accuracy', 'val_loss', 'val_accuracy'])\n"
          ],
          "name": "stdout"
        }
      ]
    },
    {
      "cell_type": "code",
      "metadata": {
        "colab": {
          "base_uri": "https://localhost:8080/",
          "height": 513
        },
        "id": "3pE645AtDyfd",
        "outputId": "f79bc29d-01f8-479c-db39-05d16a7c156d"
      },
      "source": [
        "plt.figure(figsize = (12, 8))\r\n",
        "plt.plot(hist.history['accuracy'])\r\n",
        "plt.plot(hist.history['val_accuracy'])\r\n",
        "plt.title('Model Accuracy')\r\n",
        "plt.ylabel('Accuracy')\r\n",
        "plt.xlabel('Epoch')\r\n",
        "plt.legend(['train', 'test'], loc='upper left')\r\n",
        "plt.show()"
      ],
      "execution_count": null,
      "outputs": [
        {
          "output_type": "display_data",
          "data": {
            "image/png": "[encoded data removed]",
            "text/plain": [
              "<Figure size 864x576 with 1 Axes>"
            ]
          },
          "metadata": {
            "tags": [],
            "needs_background": "light"
          }
        }
      ]
    },
    {
      "cell_type": "code",
      "metadata": {
        "colab": {
          "base_uri": "https://localhost:8080/",
          "height": 513
        },
        "id": "Fv0VSIbTECng",
        "outputId": "ca82fa87-3d4d-4558-c513-877a5b8b5be6"
      },
      "source": [
        "plt.figure(figsize = (12, 8))\r\n",
        "plt.plot(hist.history['loss'])\r\n",
        "plt.plot(hist.history['val_loss'])\r\n",
        "plt.title('Model loss')\r\n",
        "plt.ylabel('Loss')\r\n",
        "plt.xlabel('Epoch')\r\n",
        "plt.legend(['train', 'test'], loc='upper left')\r\n",
        "plt.show()"
      ],
      "execution_count": null,
      "outputs": [
        {
          "output_type": "display_data",
          "data": {
            "image/png": "[encoded data removed]",
            "text/plain": [
              "<Figure size 864x576 with 1 Axes>"
            ]
          },
          "metadata": {
            "tags": [],
            "needs_background": "light"
          }
        }
      ]
    },
    {
      "cell_type": "markdown",
      "metadata": {
        "id": "riu945wb7iOP"
      },
      "source": [
        "### **GUI to predict digits**"
      ]
    },
    {
      "cell_type": "code",
      "metadata": {
        "id": "C5zZ5eRz7MWg"
      },
      "source": [
        ""
      ],
      "execution_count": null,
      "outputs": []
    }
  ]
}