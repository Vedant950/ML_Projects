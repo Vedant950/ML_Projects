{
  "nbformat": 4,
  "nbformat_minor": 0,
  "metadata": {
    "colab": {
      "name": "Realtime_face-mask_Detector.ipynb",
      "provenance": [],
      "collapsed_sections": []
    },
    "kernelspec": {
      "name": "python3",
      "display_name": "Python 3"
    }
  },
  "cells": [
    {
      "cell_type": "markdown",
      "metadata": {
        "id": "x--cPCZpOFFn"
      },
      "source": [
        "## **Real Time Face Mask Detector**"
      ]
    },
    {
      "cell_type": "markdown",
      "metadata": {
        "id": "b_qSe7CF47Je"
      },
      "source": [
        "We will build a real-time system to detect whether the person on the webcam is wearing a mask or not. We will train the face mask detector model using Keras and OpenCV."
      ]
    },
    {
      "cell_type": "markdown",
      "metadata": {
        "id": "VzdKL7RAOOr3"
      },
      "source": [
        "### **Importing the Libraries**"
      ]
    },
    {
      "cell_type": "code",
      "metadata": {
        "id": "9xIGZSp6NP7Y"
      },
      "source": [
        "import numpy as np\r\n",
        "import pandas as pd\r\n",
        "import matplotlib.pyplot as plt\r\n",
        "import keras\r\n",
        "from keras.models import Sequential\r\n",
        "from keras.layers import Dense\r\n",
        "from keras.layers import Convolution2D\r\n",
        "from keras.layers import MaxPooling2D\r\n",
        "from keras.layers import Flatten\r\n",
        "from keras.layers import Dropout\r\n",
        "from keras.layers import BatchNormalization\r\n",
        "import seaborn as sns"
      ],
      "execution_count": 1,
      "outputs": []
    },
    {
      "cell_type": "markdown",
      "metadata": {
        "id": "cqUq7awyP-Fh"
      },
      "source": [
        "### **Creating CNN Model**"
      ]
    },
    {
      "cell_type": "code",
      "metadata": {
        "id": "xFnu-8E8P-jd"
      },
      "source": [
        "model = Sequential()\r\n",
        "model.add(Convolution2D(128, (3, 3), activation = 'relu', input_shape = (150, 150, 3)))\r\n",
        "model.add(MaxPooling2D(pool_size = (2, 2)))\r\n",
        "\r\n",
        "model.add(Convolution2D(100, (3, 3), activation = 'relu'))\r\n",
        "model.add(MaxPooling2D(pool_size = (2, 2)))\r\n",
        "\r\n",
        "model.add(Flatten())\r\n",
        "model.add(Dropout(0.20))\r\n",
        "model.add(Dense(512, activation = 'relu'))\r\n",
        "model.add(Dense(2, activation = 'softmax'))\r\n",
        "\r\n",
        "model.compile(optimizer = 'adam', loss = 'binary_crossentropy', metrics = ['accuracy'])"
      ],
      "execution_count": 2,
      "outputs": []
    },
    {
      "cell_type": "code",
      "metadata": {
        "colab": {
          "base_uri": "https://localhost:8080/"
        },
        "id": "J7RsvJZtUXCQ",
        "outputId": "bba25d44-01c1-4ab5-91eb-934c1dd4230d"
      },
      "source": [
        "model.summary()"
      ],
      "execution_count": 3,
      "outputs": [
        {
          "output_type": "stream",
          "text": [
            "Model: \"sequential\"\n",
            "_________________________________________________________________\n",
            "Layer (type)                 Output Shape              Param #   \n",
            "=================================================================\n",
            "conv2d (Conv2D)              (None, 148, 148, 128)     3584      \n",
            "_________________________________________________________________\n",
            "max_pooling2d (MaxPooling2D) (None, 74, 74, 128)       0         \n",
            "_________________________________________________________________\n",
            "conv2d_1 (Conv2D)            (None, 72, 72, 100)       115300    \n",
            "_________________________________________________________________\n",
            "max_pooling2d_1 (MaxPooling2 (None, 36, 36, 100)       0         \n",
            "_________________________________________________________________\n",
            "flatten (Flatten)            (None, 129600)            0         \n",
            "_________________________________________________________________\n",
            "dropout (Dropout)            (None, 129600)            0         \n",
            "_________________________________________________________________\n",
            "dense (Dense)                (None, 512)               66355712  \n",
            "_________________________________________________________________\n",
            "dense_1 (Dense)              (None, 2)                 1026      \n",
            "=================================================================\n",
            "Total params: 66,475,622\n",
            "Trainable params: 66,475,622\n",
            "Non-trainable params: 0\n",
            "_________________________________________________________________\n"
          ],
          "name": "stdout"
        }
      ]
    },
    {
      "cell_type": "markdown",
      "metadata": {
        "id": "Zq5Ae34aRdp9"
      },
      "source": [
        "### **Image Augumentation**"
      ]
    },
    {
      "cell_type": "code",
      "metadata": {
        "id": "IpPD40VZRaC1",
        "colab": {
          "base_uri": "https://localhost:8080/"
        },
        "outputId": "1fcf9be2-d078-4c17-8bef-7f100b0335d6"
      },
      "source": [
        "from keras.preprocessing.image import ImageDataGenerator\r\n",
        "\r\n",
        "train_datagen = ImageDataGenerator(rescale = 1./255,\r\n",
        "                                   shear_range = 0.2,\r\n",
        "                                   zoom_range = 0.2,\r\n",
        "                                   horizontal_flip = True)\r\n",
        "test_datagen = ImageDataGenerator(rescale = 1./255)\r\n",
        "training_set = train_datagen.flow_from_directory('/content/drive/MyDrive/Dataset_face_mask/train/train',\r\n",
        "                                                  target_size = (150, 150),\r\n",
        "                                                  batch_size = 10)\r\n",
        "test_set = test_datagen.flow_from_directory('/content/drive/MyDrive/Dataset_face_mask/test/test',\r\n",
        "                                                  target_size = (150, 150),\r\n",
        "                                                  batch_size = 10)\r\n",
        "hist = model.fit(training_set,\r\n",
        "                 epochs = 10,\r\n",
        "                 validation_data = test_set)"
      ],
      "execution_count": 4,
      "outputs": [
        {
          "output_type": "stream",
          "text": [
            "Found 1315 images belonging to 2 classes.\n",
            "Found 194 images belonging to 2 classes.\n",
            "Epoch 1/10\n",
            "132/132 [==============================] - 1056s 8s/step - loss: 0.7903 - accuracy: 0.7522 - val_loss: 0.1704 - val_accuracy: 0.9485\n",
            "Epoch 2/10\n",
            "132/132 [==============================] - 185s 1s/step - loss: 0.1895 - accuracy: 0.9433 - val_loss: 0.1676 - val_accuracy: 0.9485\n",
            "Epoch 3/10\n",
            "132/132 [==============================] - 185s 1s/step - loss: 0.1596 - accuracy: 0.9468 - val_loss: 0.1436 - val_accuracy: 0.9536\n",
            "Epoch 4/10\n",
            "132/132 [==============================] - 185s 1s/step - loss: 0.1326 - accuracy: 0.9491 - val_loss: 0.1562 - val_accuracy: 0.9433\n",
            "Epoch 5/10\n",
            "132/132 [==============================] - 186s 1s/step - loss: 0.2174 - accuracy: 0.9365 - val_loss: 0.1475 - val_accuracy: 0.9639\n",
            "Epoch 6/10\n",
            "132/132 [==============================] - 184s 1s/step - loss: 0.1198 - accuracy: 0.9658 - val_loss: 0.1066 - val_accuracy: 0.9588\n",
            "Epoch 7/10\n",
            "132/132 [==============================] - 182s 1s/step - loss: 0.0994 - accuracy: 0.9740 - val_loss: 0.1000 - val_accuracy: 0.9588\n",
            "Epoch 8/10\n",
            "132/132 [==============================] - 185s 1s/step - loss: 0.0818 - accuracy: 0.9722 - val_loss: 0.1043 - val_accuracy: 0.9588\n",
            "Epoch 9/10\n",
            "132/132 [==============================] - 182s 1s/step - loss: 0.0847 - accuracy: 0.9722 - val_loss: 0.0877 - val_accuracy: 0.9639\n",
            "Epoch 10/10\n",
            "132/132 [==============================] - 182s 1s/step - loss: 0.0782 - accuracy: 0.9721 - val_loss: 0.0944 - val_accuracy: 0.9691\n"
          ],
          "name": "stdout"
        }
      ]
    },
    {
      "cell_type": "code",
      "metadata": {
        "id": "Jbla2oGCbm1X",
        "colab": {
          "base_uri": "https://localhost:8080/"
        },
        "outputId": "897b5ad8-4714-4c2d-e5be-bfa63594022d"
      },
      "source": [
        "model.save('model-010.h5')\r\n",
        "print(\"Model Saved Successfully\")"
      ],
      "execution_count": 5,
      "outputs": [
        {
          "output_type": "stream",
          "text": [
            "Model Saved Successfully\n"
          ],
          "name": "stdout"
        }
      ]
    },
    {
      "cell_type": "markdown",
      "metadata": {
        "id": "-368OPMk2ulN"
      },
      "source": [
        "## **Model Evaluation**"
      ]
    },
    {
      "cell_type": "code",
      "metadata": {
        "colab": {
          "base_uri": "https://localhost:8080/"
        },
        "id": "J9QmuCl42pU_",
        "outputId": "abfd7d5a-df02-46f9-f8db-b6279a3afc3a"
      },
      "source": [
        "score = model.evaluate(test_set)\r\n",
        "print('Test loss:', score[0])\r\n",
        "print('Test accuracy:', score[1]*100)"
      ],
      "execution_count": 11,
      "outputs": [
        {
          "output_type": "stream",
          "text": [
            "20/20 [==============================] - 7s 320ms/step - loss: 0.0944 - accuracy: 0.9691\n",
            "Test loss: 0.09442699700593948\n",
            "Test accuracy: 96.9072163105011\n"
          ],
          "name": "stdout"
        }
      ]
    },
    {
      "cell_type": "markdown",
      "metadata": {
        "id": "HCWlcrGjlgQC"
      },
      "source": [
        "### **Data Visualization**"
      ]
    },
    {
      "cell_type": "code",
      "metadata": {
        "colab": {
          "base_uri": "https://localhost:8080/"
        },
        "id": "S0AF393flZJI",
        "outputId": "4583d3c4-a793-46d5-d476-b55518ad8297"
      },
      "source": [
        "hist.history.keys()"
      ],
      "execution_count": 6,
      "outputs": [
        {
          "output_type": "execute_result",
          "data": {
            "text/plain": [
              "dict_keys(['loss', 'accuracy', 'val_loss', 'val_accuracy'])"
            ]
          },
          "metadata": {
            "tags": []
          },
          "execution_count": 6
        }
      ]
    },
    {
      "cell_type": "code",
      "metadata": {
        "colab": {
          "base_uri": "https://localhost:8080/",
          "height": 513
        },
        "id": "L7BNnBB5lYo3",
        "outputId": "60fae67e-0596-44be-9d0e-1be1b5439561"
      },
      "source": [
        "plt.figure(figsize = (12, 8))\r\n",
        "plt.plot(hist.history['accuracy'])\r\n",
        "plt.plot(hist.history['val_accuracy'])\r\n",
        "plt.title('Model Accuracy')\r\n",
        "plt.ylabel('Accuracy')\r\n",
        "plt.xlabel('Epoch')\r\n",
        "plt.legend(['train', 'test'], loc='upper left')\r\n",
        "plt.show()"
      ],
      "execution_count": 7,
      "outputs": [
        {
          "output_type": "display_data",
          "data": {
            "image/png": "[encoded data removed]",
            "text/plain": [
              "<Figure size 864x576 with 1 Axes>"
            ]
          },
          "metadata": {
            "tags": [],
            "needs_background": "light"
          }
        }
      ]
    },
    {
      "cell_type": "code",
      "metadata": {
        "id": "yIAmQMc9CPT4",
        "colab": {
          "base_uri": "https://localhost:8080/",
          "height": 513
        },
        "outputId": "497ec504-f9b5-48e9-af64-4c2add080330"
      },
      "source": [
        "plt.figure(figsize = (12, 8))\r\n",
        "plt.plot(hist.history['loss'])\r\n",
        "plt.plot(hist.history['val_loss'])\r\n",
        "plt.title('Model loss')\r\n",
        "plt.ylabel('Loss')\r\n",
        "plt.xlabel('Epoch')\r\n",
        "plt.legend(['train', 'test'], loc='upper right')\r\n",
        "plt.show()"
      ],
      "execution_count": 8,
      "outputs": [
        {
          "output_type": "display_data",
          "data": {
            "image/png": "[encoded data removed]",
            "text/plain": [
              "<Figure size 864x576 with 1 Axes>"
            ]
          },
          "metadata": {
            "tags": [],
            "needs_background": "light"
          }
        }
      ]
    },
    {
      "cell_type": "markdown",
      "metadata": {
        "id": "JUqMOHTk5PCv"
      },
      "source": [
        "In this project, we have developed a deep learning model for face mask detection using Python, Keras, and OpenCV. We developed the face mask detector model for detecting whether person is wearing a mask or not. We have trained the model using Keras with network architecture. Training the model is the first part of this project and testing using webcam using OpenCV is the second part."
      ]
    }
  ]
}